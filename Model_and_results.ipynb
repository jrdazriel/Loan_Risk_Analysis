{
 "cells": [
  {
   "cell_type": "markdown",
   "metadata": {},
   "source": [
    "### We must think in terms of the original question we were trying to answer...\n",
    "Can we accurately predict if a borrower will pay off their loan on time or not?\n",
    "Error metric? Accuracy?\n",
    "At the end of the day we are using this to try to make money and therefore we want to fund enough loans that are paid off on time in order to potentially offset losses from any loans that aren't paid off and ideally we would like to not have any loans go unpaid...\n",
    "Essentially in this case we are concerning ourselves with false positives and false negatives:"
   ]
  },
  {
   "cell_type": "markdown",
   "metadata": {},
   "source": [
    "Essentially we want to be the conservative investor in this case because we don't want to lose any money.\n",
    "The false positive is the worst possible scenario for us in which we predict it will be paid back but in fact it wont be... and this will cause us to lose money. Then there is also the case of the false negative where you miss out on opportunity to make more money, however we would rather be okay with missing out on false negatives than funding the false positives."
   ]
  },
  {
   "cell_type": "code",
   "execution_count": 1,
   "metadata": {},
   "outputs": [
    {
     "name": "stdout",
     "output_type": "stream",
     "text": [
      "Pandas Version: 0.25.1\n",
      "Scikit Learn Version: 0.21.3\n",
      "Seaborn Version: 0.9.0\n"
     ]
    }
   ],
   "source": [
    "#Imports and versions\n",
    "import pandas as pd\n",
    "import sklearn\n",
    "import seaborn as sns\n",
    "\n",
    "loans = pd.read_csv('loans_data_cleaned.csv')\n",
    "print('Pandas Version:', pd.__version__)\n",
    "print('Scikit Learn Version:', sklearn.__version__)\n",
    "print('Seaborn Version:', sns.__version__)"
   ]
  },
  {
   "cell_type": "code",
   "execution_count": 2,
   "metadata": {},
   "outputs": [
    {
     "name": "stdout",
     "output_type": "stream",
     "text": [
      "<class 'pandas.core.frame.DataFrame'>\n",
      "RangeIndex: 120098 entries, 0 to 120097\n",
      "Data columns (total 94 columns):\n",
      "loan_amnt                              120098 non-null int64\n",
      "term                                   120098 non-null float64\n",
      "int_rate                               120098 non-null float64\n",
      "installment                            120098 non-null float64\n",
      "emp_length                             120098 non-null int64\n",
      "annual_inc                             120098 non-null float64\n",
      "loan_status                            120098 non-null int64\n",
      "dti                                    120098 non-null float64\n",
      "delinq_2yrs                            120098 non-null float64\n",
      "inq_last_6mths                         120098 non-null float64\n",
      "mths_since_last_delinq                 120098 non-null float64\n",
      "open_acc                               120098 non-null float64\n",
      "pub_rec                                120098 non-null float64\n",
      "revol_bal                              120098 non-null int64\n",
      "revol_util                             120098 non-null float64\n",
      "total_acc                              120098 non-null float64\n",
      "collections_12_mths_ex_med             120098 non-null float64\n",
      "acc_now_delinq                         120098 non-null float64\n",
      "tot_coll_amt                           120098 non-null float64\n",
      "tot_cur_bal                            120098 non-null float64\n",
      "open_acc_6m                            120098 non-null float64\n",
      "open_act_il                            120098 non-null float64\n",
      "open_il_12m                            120098 non-null float64\n",
      "open_il_24m                            120098 non-null float64\n",
      "mths_since_rcnt_il                     120098 non-null float64\n",
      "total_bal_il                           120098 non-null float64\n",
      "il_util                                120098 non-null float64\n",
      "open_rv_12m                            120098 non-null float64\n",
      "open_rv_24m                            120098 non-null float64\n",
      "max_bal_bc                             120098 non-null float64\n",
      "all_util                               120098 non-null float64\n",
      "total_rev_hi_lim                       120098 non-null float64\n",
      "inq_fi                                 120098 non-null float64\n",
      "total_cu_tl                            120098 non-null float64\n",
      "inq_last_12m                           120098 non-null float64\n",
      "acc_open_past_24mths                   120098 non-null float64\n",
      "avg_cur_bal                            120098 non-null float64\n",
      "bc_open_to_buy                         120098 non-null float64\n",
      "bc_util                                120098 non-null float64\n",
      "chargeoff_within_12_mths               120098 non-null float64\n",
      "delinq_amnt                            120098 non-null float64\n",
      "mo_sin_old_il_acct                     120098 non-null float64\n",
      "mo_sin_old_rev_tl_op                   120098 non-null float64\n",
      "mo_sin_rcnt_rev_tl_op                  120098 non-null float64\n",
      "mo_sin_rcnt_tl                         120098 non-null float64\n",
      "mort_acc                               120098 non-null float64\n",
      "mths_since_recent_bc                   120098 non-null float64\n",
      "mths_since_recent_inq                  120098 non-null float64\n",
      "mths_since_recent_revol_delinq         120098 non-null float64\n",
      "num_accts_ever_120_pd                  120098 non-null float64\n",
      "num_actv_bc_tl                         120098 non-null float64\n",
      "num_actv_rev_tl                        120098 non-null float64\n",
      "num_bc_sats                            120098 non-null float64\n",
      "num_bc_tl                              120098 non-null float64\n",
      "num_il_tl                              120098 non-null float64\n",
      "num_op_rev_tl                          120098 non-null float64\n",
      "num_rev_accts                          120098 non-null float64\n",
      "num_rev_tl_bal_gt_0                    120098 non-null float64\n",
      "num_sats                               120098 non-null float64\n",
      "num_tl_120dpd_2m                       120098 non-null float64\n",
      "num_tl_30dpd                           120098 non-null float64\n",
      "num_tl_90g_dpd_24m                     120098 non-null float64\n",
      "num_tl_op_past_12m                     120098 non-null float64\n",
      "pct_tl_nvr_dlq                         120098 non-null float64\n",
      "percent_bc_gt_75                       120098 non-null float64\n",
      "tax_liens                              120098 non-null float64\n",
      "tot_hi_cred_lim                        120098 non-null float64\n",
      "total_bal_ex_mort                      120098 non-null float64\n",
      "total_bc_limit                         120098 non-null float64\n",
      "total_il_high_credit_limit             120098 non-null float64\n",
      "home_ownership_ANY                     120098 non-null int64\n",
      "home_ownership_MORTGAGE                120098 non-null int64\n",
      "home_ownership_NONE                    120098 non-null int64\n",
      "home_ownership_OWN                     120098 non-null int64\n",
      "home_ownership_RENT                    120098 non-null int64\n",
      "verification_status_Not Verified       120098 non-null int64\n",
      "verification_status_Source Verified    120098 non-null int64\n",
      "verification_status_Verified           120098 non-null int64\n",
      "purpose_car                            120098 non-null int64\n",
      "purpose_credit_card                    120098 non-null int64\n",
      "purpose_debt_consolidation             120098 non-null int64\n",
      "purpose_home_improvement               120098 non-null int64\n",
      "purpose_house                          120098 non-null int64\n",
      "purpose_major_purchase                 120098 non-null int64\n",
      "purpose_medical                        120098 non-null int64\n",
      "purpose_moving                         120098 non-null int64\n",
      "purpose_other                          120098 non-null int64\n",
      "purpose_renewable_energy               120098 non-null int64\n",
      "purpose_small_business                 120098 non-null int64\n",
      "purpose_vacation                       120098 non-null int64\n",
      "application_type_Individual            120098 non-null int64\n",
      "application_type_Joint App             120098 non-null int64\n",
      "initial_list_status_f                  120098 non-null int64\n",
      "initial_list_status_w                  120098 non-null int64\n",
      "dtypes: float64(66), int64(28)\n",
      "memory usage: 86.1 MB\n"
     ]
    }
   ],
   "source": [
    "#Again take a look at our data\n",
    "loans.info()"
   ]
  },
  {
   "cell_type": "code",
   "execution_count": 3,
   "metadata": {},
   "outputs": [
    {
     "data": {
      "text/plain": [
       "1    92589\n",
       "0    27509\n",
       "Name: loan_status, dtype: int64"
      ]
     },
     "execution_count": 3,
     "metadata": {},
     "output_type": "execute_result"
    }
   ],
   "source": [
    "#Take a look at our prediction value where we can see if we have some imbalanced data for classification\n",
    "loans['loan_status'].value_counts()"
   ]
  },
  {
   "cell_type": "code",
   "execution_count": 4,
   "metadata": {},
   "outputs": [],
   "source": [
    "#First model I like to go with is logistic regression unless I am sure something else will be fast and easy to implement gives us a good base line to start with\n",
    "#We use the balanced parameter in our logistic regression model to account for our slightly imbalanced data\n",
    "from sklearn.linear_model import LogisticRegression\n",
    "lr = LogisticRegression(class_weight='balanced')\n",
    "train_cols = (loans.columns).drop('loan_status')\n",
    "y = loans['loan_status']\n",
    "X = loans[train_cols]"
   ]
  },
  {
   "cell_type": "code",
   "execution_count": 5,
   "metadata": {},
   "outputs": [],
   "source": [
    "#Create training, validation, and testing sets... (and take a look at the shapes to ensure everything is the same)\n",
    "from sklearn.model_selection import train_test_split\n",
    "X_train, X_test, y_train, y_test = train_test_split(X, y, test_size=0.2, random_state=42)\n",
    "\n",
    "X_train, X_val, y_train, y_val = train_test_split(X_train, y_train, test_size=0.25, random_state=42)"
   ]
  },
  {
   "cell_type": "code",
   "execution_count": 6,
   "metadata": {},
   "outputs": [
    {
     "data": {
      "text/plain": [
       "(72058, 93)"
      ]
     },
     "execution_count": 6,
     "metadata": {},
     "output_type": "execute_result"
    }
   ],
   "source": [
    "X_train.shape"
   ]
  },
  {
   "cell_type": "code",
   "execution_count": 7,
   "metadata": {},
   "outputs": [
    {
     "data": {
      "text/plain": [
       "(24020, 93)"
      ]
     },
     "execution_count": 7,
     "metadata": {},
     "output_type": "execute_result"
    }
   ],
   "source": [
    "X_val.shape"
   ]
  },
  {
   "cell_type": "code",
   "execution_count": 8,
   "metadata": {},
   "outputs": [
    {
     "data": {
      "text/plain": [
       "(24020, 93)"
      ]
     },
     "execution_count": 8,
     "metadata": {},
     "output_type": "execute_result"
    }
   ],
   "source": [
    "X_test.shape"
   ]
  },
  {
   "cell_type": "code",
   "execution_count": 9,
   "metadata": {},
   "outputs": [
    {
     "data": {
      "text/plain": [
       "(72058,)"
      ]
     },
     "execution_count": 9,
     "metadata": {},
     "output_type": "execute_result"
    }
   ],
   "source": [
    "y_train.shape"
   ]
  },
  {
   "cell_type": "code",
   "execution_count": 10,
   "metadata": {},
   "outputs": [
    {
     "data": {
      "text/plain": [
       "(24020,)"
      ]
     },
     "execution_count": 10,
     "metadata": {},
     "output_type": "execute_result"
    }
   ],
   "source": [
    "y_val.shape"
   ]
  },
  {
   "cell_type": "code",
   "execution_count": 11,
   "metadata": {},
   "outputs": [
    {
     "data": {
      "text/plain": [
       "(24020,)"
      ]
     },
     "execution_count": 11,
     "metadata": {},
     "output_type": "execute_result"
    }
   ],
   "source": [
    "y_test.shape"
   ]
  },
  {
   "cell_type": "code",
   "execution_count": 12,
   "metadata": {},
   "outputs": [
    {
     "name": "stderr",
     "output_type": "stream",
     "text": [
      "/home/j/python3.7dev1/lib/python3.7/site-packages/sklearn/linear_model/logistic.py:432: FutureWarning: Default solver will be changed to 'lbfgs' in 0.22. Specify a solver to silence this warning.\n",
      "  FutureWarning)\n"
     ]
    },
    {
     "data": {
      "text/plain": [
       "array([[-4.27730352e-05, -1.06231922e-02, -6.19337033e-02,\n",
       "         4.40996264e-04,  1.64165699e-02,  8.25538789e-08,\n",
       "        -1.85239392e-02, -1.94055300e-03, -6.06063614e-03,\n",
       "         4.46679361e-03,  1.50145823e-03, -4.23039318e-03,\n",
       "        -1.23856929e-06, -3.41636604e-03,  1.25935645e-02,\n",
       "        -5.33189720e-04, -1.07106776e-04,  7.58073915e-06,\n",
       "        -1.68410760e-06, -4.09261099e-03,  3.44040318e-03,\n",
       "        -2.28881815e-03, -4.77819376e-03, -3.27554130e-04,\n",
       "        -5.72497842e-06,  9.21443944e-04, -4.21827593e-03,\n",
       "        -1.53023550e-02,  7.03124990e-06, -9.72451210e-04,\n",
       "        -5.64870132e-07, -3.33174685e-03,  1.21036278e-02,\n",
       "        -7.89999696e-03, -1.86893577e-02,  9.09672243e-06,\n",
       "         1.14209607e-05,  4.27809438e-03, -3.33728016e-08,\n",
       "        -5.73487422e-06,  1.08124730e-03,  6.69320979e-04,\n",
       "         1.73374098e-04,  1.33163754e-03,  2.22113673e-02,\n",
       "         1.26204941e-03,  1.08715558e-02,  1.70301702e-03,\n",
       "         1.51105225e-02, -7.78963371e-03, -1.60196711e-02,\n",
       "        -3.83667727e-03, -4.97569216e-03, -1.01986128e-02,\n",
       "        -5.40226357e-03,  1.39292215e-03, -1.60802637e-02,\n",
       "         1.91129925e-03,  2.65672027e-05, -1.14762669e-04,\n",
       "        -8.90955284e-05, -7.11529188e-03,  1.39188304e-02,\n",
       "        -2.86251555e-03, -1.73940071e-03,  2.01623279e-06,\n",
       "         2.50173110e-06,  1.43818776e-06,  3.12021192e-06,\n",
       "        -1.86706458e-05,  7.89313688e-03,  2.77885236e-06,\n",
       "        -3.87623500e-04, -5.97667529e-03,  6.58333930e-03,\n",
       "        -1.04990197e-03, -4.02049104e-03,  3.93204680e-04,\n",
       "         2.87173944e-03,  2.59175956e-03, -2.59182499e-04,\n",
       "         1.09673677e-04, -3.16184763e-04, -6.42875726e-04,\n",
       "        -3.80104965e-04, -1.21903939e-03, -4.68366540e-05,\n",
       "        -1.18017208e-03, -4.09034988e-04, -1.29162031e-04,\n",
       "         1.64210833e-03, -2.90392190e-03,  4.41686819e-03]])"
      ]
     },
     "execution_count": 12,
     "metadata": {},
     "output_type": "execute_result"
    }
   ],
   "source": [
    "#Now we will go ahead and fit a simple logistic regression model\n",
    "lr = lr.fit(X_train, y_train)\n",
    "lr.coef_"
   ]
  },
  {
   "cell_type": "code",
   "execution_count": 13,
   "metadata": {},
   "outputs": [
    {
     "data": {
      "text/plain": [
       "array([0.00151295])"
      ]
     },
     "execution_count": 13,
     "metadata": {},
     "output_type": "execute_result"
    }
   ],
   "source": [
    "lr.intercept_"
   ]
  },
  {
   "cell_type": "code",
   "execution_count": 14,
   "metadata": {},
   "outputs": [
    {
     "data": {
      "text/plain": [
       "0        1\n",
       "1        1\n",
       "2        1\n",
       "3        0\n",
       "4        0\n",
       "        ..\n",
       "24015    0\n",
       "24016    0\n",
       "24017    0\n",
       "24018    1\n",
       "24019    0\n",
       "Length: 24020, dtype: int64"
      ]
     },
     "execution_count": 14,
     "metadata": {},
     "output_type": "execute_result"
    }
   ],
   "source": [
    "model_results = pd.Series(lr.predict(X_val))\n",
    "model_results"
   ]
  },
  {
   "cell_type": "code",
   "execution_count": 15,
   "metadata": {},
   "outputs": [],
   "source": [
    "#Model predicts they will pay back the loan when in fact they do not = false positive:\n",
    "fp_filter = ((model_results == 1) & (loans['loan_status'] == 0))\n",
    "fp = len(model_results[fp_filter])\n",
    "\n",
    "#Model predicts they wont pay back the loan when in fact they do = false negative:\n",
    "fn_filter = ((model_results == 0) & (loans['loan_status'] == 1))\n",
    "fn = len(model_results[fn_filter])\n",
    "\n",
    "#True Positives\n",
    "tp_filter = ((model_results == 1) & (loans['loan_status'] == 1))\n",
    "tp = len(model_results[tp_filter])\n",
    "\n",
    "tn_filter = ((model_results == 0) & (loans['loan_status'] == 0))\n",
    "tn = len(model_results[tn_filter])"
   ]
  },
  {
   "cell_type": "code",
   "execution_count": 16,
   "metadata": {},
   "outputs": [
    {
     "data": {
      "text/plain": [
       "<matplotlib.axes._subplots.AxesSubplot at 0x7f7d8fcca5d0>"
      ]
     },
     "execution_count": 16,
     "metadata": {},
     "output_type": "execute_result"
    },
    {
     "data": {
      "image/png": "[encoded data removed]",
      "text/plain": [
       "<Figure size 432x288 with 2 Axes>"
      ]
     },
     "metadata": {
      "needs_background": "light"
     },
     "output_type": "display_data"
    }
   ],
   "source": [
    "pd.set_option('display.float_format', lambda x: '%.3f' % x)\n",
    "data = {'loans' : loans['loan_status'], \n",
    "        'model_results': model_results}\n",
    "\n",
    "df = pd.DataFrame(data, columns=['loans', 'model_results'])\n",
    "confusion_matrix = pd.crosstab(df['loans'], df['model_results'], rownames=['Actual'], colnames=['Predicted'])\n",
    "\n",
    "sns.heatmap(confusion_matrix, annot=True, fmt='g')"
   ]
  },
  {
   "cell_type": "code",
   "execution_count": 17,
   "metadata": {},
   "outputs": [
    {
     "name": "stdout",
     "output_type": "stream",
     "text": [
      "FPR: 0.5842808697386794\n",
      "TPR: 0.5845741042773714\n"
     ]
    }
   ],
   "source": [
    "FPR = fp / (fp + tn)\n",
    "print('FPR:', FPR)\n",
    "\n",
    "TPR = tp / (tp + fn)\n",
    "print('TPR:', TPR)"
   ]
  },
  {
   "cell_type": "code",
   "execution_count": 18,
   "metadata": {},
   "outputs": [
    {
     "name": "stderr",
     "output_type": "stream",
     "text": [
      "/home/j/python3.7dev1/lib/python3.7/site-packages/sklearn/linear_model/logistic.py:432: FutureWarning: Default solver will be changed to 'lbfgs' in 0.22. Specify a solver to silence this warning.\n",
      "  FutureWarning)\n",
      "/home/j/python3.7dev1/lib/python3.7/site-packages/sklearn/linear_model/logistic.py:432: FutureWarning: Default solver will be changed to 'lbfgs' in 0.22. Specify a solver to silence this warning.\n",
      "  FutureWarning)\n",
      "/home/j/python3.7dev1/lib/python3.7/site-packages/sklearn/linear_model/logistic.py:432: FutureWarning: Default solver will be changed to 'lbfgs' in 0.22. Specify a solver to silence this warning.\n",
      "  FutureWarning)\n"
     ]
    }
   ],
   "source": [
    "from sklearn.model_selection import cross_val_predict\n",
    "model2_results = cross_val_predict(lr, X = X_train, y = y_train, cv=3)"
   ]
  },
  {
   "cell_type": "code",
   "execution_count": 19,
   "metadata": {},
   "outputs": [
    {
     "data": {
      "text/plain": [
       "0        1\n",
       "1        1\n",
       "2        1\n",
       "3        0\n",
       "4        0\n",
       "        ..\n",
       "24015    0\n",
       "24016    0\n",
       "24017    0\n",
       "24018    1\n",
       "24019    0\n",
       "Length: 24020, dtype: int64"
      ]
     },
     "execution_count": 19,
     "metadata": {},
     "output_type": "execute_result"
    }
   ],
   "source": [
    "model2_results = pd.Series(model_results)\n",
    "model2_results"
   ]
  },
  {
   "cell_type": "code",
   "execution_count": 20,
   "metadata": {},
   "outputs": [],
   "source": [
    "#Model predicts they will pay back the loan when in fact they do not = false positive:\n",
    "fp_filter = ((model2_results == 1) & (loans['loan_status'] == 0))\n",
    "fp = len(model2_results[fp_filter])\n",
    "\n",
    "#Model predicts they wont pay back the loan when in fact they do = false negative:\n",
    "fn_filter = ((model2_results == 0) & (loans['loan_status'] == 1))\n",
    "fn = len(model2_results[fn_filter])\n",
    "\n",
    "#True Positives\n",
    "tp_filter = ((model2_results == 1) & (loans['loan_status'] == 1))\n",
    "tp = len(model2_results[tp_filter])\n",
    "\n",
    "tn_filter = ((model2_results == 0) & (loans['loan_status'] == 0))\n",
    "tn = len(model2_results[tn_filter])"
   ]
  },
  {
   "cell_type": "code",
   "execution_count": 21,
   "metadata": {},
   "outputs": [
    {
     "data": {
      "text/plain": [
       "<matplotlib.axes._subplots.AxesSubplot at 0x7f7d8fc46590>"
      ]
     },
     "execution_count": 21,
     "metadata": {},
     "output_type": "execute_result"
    },
    {
     "data": {
      "image/png": "[encoded data removed]",
      "text/plain": [
       "<Figure size 432x288 with 2 Axes>"
      ]
     },
     "metadata": {
      "needs_background": "light"
     },
     "output_type": "display_data"
    }
   ],
   "source": [
    "pd.set_option('display.float_format', lambda x: '%.3f' % x)\n",
    "data = {'loans' : loans['loan_status'], \n",
    "        'model_results': model2_results}\n",
    "\n",
    "df = pd.DataFrame(data, columns=['loans', 'model_results'])\n",
    "confusion_matrix = pd.crosstab(df['loans'], df['model_results'], rownames=['Actual'], colnames=['Predicted'])\n",
    "\n",
    "sns.heatmap(confusion_matrix, annot=True, fmt='g')"
   ]
  },
  {
   "cell_type": "code",
   "execution_count": 22,
   "metadata": {},
   "outputs": [
    {
     "name": "stdout",
     "output_type": "stream",
     "text": [
      "FPR: 0.5842808697386794\n",
      "TPR: 0.5845741042773714\n"
     ]
    }
   ],
   "source": [
    "FPR = fp / (fp + tn)\n",
    "print('FPR:', FPR)\n",
    "\n",
    "TPR = tp / (tp + fn)\n",
    "print('TPR:', TPR)"
   ]
  },
  {
   "cell_type": "markdown",
   "metadata": {},
   "source": [
    "#### As you can see the current model has a false positive rate of 58.4% which means this is the percentage of loans that shouldnt be funded that i would based on the current models and the TPR or true positive rate is 58.4 % which means we are only funding 58.4% of the loans we should be funding."
   ]
  },
  {
   "cell_type": "code",
   "execution_count": 23,
   "metadata": {},
   "outputs": [
    {
     "name": "stderr",
     "output_type": "stream",
     "text": [
      "/home/j/python3.7dev1/lib/python3.7/site-packages/sklearn/linear_model/logistic.py:432: FutureWarning: Default solver will be changed to 'lbfgs' in 0.22. Specify a solver to silence this warning.\n",
      "  FutureWarning)\n",
      "/home/j/python3.7dev1/lib/python3.7/site-packages/sklearn/linear_model/logistic.py:432: FutureWarning: Default solver will be changed to 'lbfgs' in 0.22. Specify a solver to silence this warning.\n",
      "  FutureWarning)\n",
      "/home/j/python3.7dev1/lib/python3.7/site-packages/sklearn/svm/base.py:929: ConvergenceWarning: Liblinear failed to converge, increase the number of iterations.\n",
      "  \"the number of iterations.\", ConvergenceWarning)\n",
      "/home/j/python3.7dev1/lib/python3.7/site-packages/sklearn/linear_model/logistic.py:432: FutureWarning: Default solver will be changed to 'lbfgs' in 0.22. Specify a solver to silence this warning.\n",
      "  FutureWarning)\n",
      "/home/j/python3.7dev1/lib/python3.7/site-packages/sklearn/svm/base.py:929: ConvergenceWarning: Liblinear failed to converge, increase the number of iterations.\n",
      "  \"the number of iterations.\", ConvergenceWarning)\n"
     ]
    }
   ],
   "source": [
    "#We will now try creating a custom penalty for the class weight parameter\n",
    "penalty = {\n",
    "    0: 10,\n",
    "    1: 1\n",
    "}\n",
    "\n",
    "lr = LogisticRegression(class_weight=penalty)\n",
    "model3_results = cross_val_predict(lr, X = X_val, y = y_val, cv=3)\n",
    "model3_results = pd.Series(model3_results)"
   ]
  },
  {
   "cell_type": "code",
   "execution_count": 24,
   "metadata": {},
   "outputs": [],
   "source": [
    "#Model predicts they will pay back the loan when in fact they do not = false positive:\n",
    "fp_filter = ((model3_results == 1) & (loans['loan_status'] == 0))\n",
    "fp = len(model3_results[fp_filter])\n",
    "\n",
    "#Model predicts they wont pay back the loan when in fact they do = false negative:\n",
    "fn_filter = ((model3_results == 0) & (loans['loan_status'] == 1))\n",
    "fn = len(model3_results[fn_filter])\n",
    "\n",
    "#True Positives\n",
    "tp_filter = ((model3_results == 1) & (loans['loan_status'] == 1))\n",
    "tp = len(model3_results[tp_filter])\n",
    "\n",
    "tn_filter = ((model3_results == 0) & (loans['loan_status'] == 0))\n",
    "tn = len(model3_results[tn_filter])"
   ]
  },
  {
   "cell_type": "code",
   "execution_count": 25,
   "metadata": {},
   "outputs": [
    {
     "data": {
      "text/plain": [
       "<matplotlib.axes._subplots.AxesSubplot at 0x7f7d8fb85fd0>"
      ]
     },
     "execution_count": 25,
     "metadata": {},
     "output_type": "execute_result"
    },
    {
     "data": {
      "image/png": "[encoded data removed]",
      "text/plain": [
       "<Figure size 432x288 with 2 Axes>"
      ]
     },
     "metadata": {
      "needs_background": "light"
     },
     "output_type": "display_data"
    }
   ],
   "source": [
    "pd.set_option('display.float_format', lambda x: '%.3f' % x)\n",
    "data = {'loans' : loans['loan_status'], \n",
    "        'model_results': model3_results}\n",
    "\n",
    "df = pd.DataFrame(data, columns=['loans', 'model_results'])\n",
    "confusion_matrix = pd.crosstab(df['loans'], df['model_results'], rownames=['Actual'], colnames=['Predicted'])\n",
    "\n",
    "sns.heatmap(confusion_matrix, annot=True, fmt='g')"
   ]
  },
  {
   "cell_type": "code",
   "execution_count": 26,
   "metadata": {},
   "outputs": [
    {
     "name": "stdout",
     "output_type": "stream",
     "text": [
      "FPR: 0.061639736684619986\n",
      "TPR: 0.06045141263744936\n"
     ]
    }
   ],
   "source": [
    "FPR = fp / (fp + tn)\n",
    "print('FPR:', FPR)\n",
    "\n",
    "TPR = tp / (tp + fn)\n",
    "print('TPR:', TPR)"
   ]
  },
  {
   "cell_type": "markdown",
   "metadata": {},
   "source": [
    "Notice that the manual penalties method improves our false positive rate down to 6.1% however this comes at the expense of the true positive rate meaning that we don't fund as many loans as we should... While taking a look at the heatmap above for number of loans funded if we funded 1149 + 309 loans at a 10.65% interest rate and 309 of them were bad we would lose money so it is probably best to take a look at another model and see if we can improve these numbers..."
   ]
  },
  {
   "cell_type": "markdown",
   "metadata": {},
   "source": [
    "The problem with our previous classifier the logistic regression is that no matter what we do it is going to be some linear approximation of the data so now we will try a RandomForest which are able to work with nonlinear data:"
   ]
  },
  {
   "cell_type": "code",
   "execution_count": 27,
   "metadata": {},
   "outputs": [
    {
     "name": "stderr",
     "output_type": "stream",
     "text": [
      "/home/j/python3.7dev1/lib/python3.7/site-packages/sklearn/ensemble/forest.py:245: FutureWarning: The default value of n_estimators will change from 10 in version 0.20 to 100 in 0.22.\n",
      "  \"10 in version 0.20 to 100 in 0.22.\", FutureWarning)\n"
     ]
    },
    {
     "data": {
      "text/plain": [
       "(24020,)"
      ]
     },
     "execution_count": 27,
     "metadata": {},
     "output_type": "execute_result"
    }
   ],
   "source": [
    "#Lets try to use a Random Forest Classifier\n",
    "from sklearn.ensemble import RandomForestClassifier\n",
    "from sklearn.model_selection import cross_val_predict\n",
    "\n",
    "penalty = {\n",
    "    0: 10,\n",
    "    1: 7\n",
    "}\n",
    "\n",
    "rf = RandomForestClassifier(class_weight=penalty, random_state=42)\n",
    "rf.fit(X_train, y_train)\n",
    "model4_results = rf.predict(X_val)\n",
    "model4_results = pd.Series(model4_results)\n",
    "model4_results.shape"
   ]
  },
  {
   "cell_type": "code",
   "execution_count": 28,
   "metadata": {},
   "outputs": [],
   "source": [
    "#Model predicts they will pay back the loan when in fact they do not = false positive:\n",
    "fp_filter = ((model4_results == 1) & (loans['loan_status'] == 0))\n",
    "fp = len(model4_results[fp_filter])\n",
    "\n",
    "#Model predicts they wont pay back the loan when in fact they do = false negative:\n",
    "fn_filter = ((model4_results == 0) & (loans['loan_status'] == 1))\n",
    "fn = len(model4_results[fn_filter])\n",
    "\n",
    "#True Positives\n",
    "tp_filter = ((model4_results == 1) & (loans['loan_status'] == 1))\n",
    "tp = len(model4_results[tp_filter])\n",
    "\n",
    "tn_filter = ((model4_results == 0) & (loans['loan_status'] == 0))\n",
    "tn = len(model4_results[tn_filter])"
   ]
  },
  {
   "cell_type": "code",
   "execution_count": 29,
   "metadata": {},
   "outputs": [
    {
     "data": {
      "text/plain": [
       "<matplotlib.axes._subplots.AxesSubplot at 0x7f7d8de4c0d0>"
      ]
     },
     "execution_count": 29,
     "metadata": {},
     "output_type": "execute_result"
    },
    {
     "data": {
      "image/png": "[encoded data removed]",
      "text/plain": [
       "<Figure size 432x288 with 2 Axes>"
      ]
     },
     "metadata": {
      "needs_background": "light"
     },
     "output_type": "display_data"
    }
   ],
   "source": [
    "pd.set_option('display.float_format', lambda x: '%.3f' % x)\n",
    "data = {'loans' : loans['loan_status'], \n",
    "        'model_results': model4_results}\n",
    "\n",
    "df = pd.DataFrame(data, columns=['loans', 'model_results'])\n",
    "confusion_matrix = pd.crosstab(df['loans'], df['model_results'], rownames=['Actual'], colnames=['Predicted'])\n",
    "\n",
    "sns.heatmap(confusion_matrix, annot=True, fmt='g')"
   ]
  },
  {
   "cell_type": "code",
   "execution_count": 30,
   "metadata": {},
   "outputs": [
    {
     "name": "stdout",
     "output_type": "stream",
     "text": [
      "FPR: 0.8805106722521444\n",
      "TPR: 0.8839901089072447\n",
      "Ratio of TP to FP 3.8065246941549615\n"
     ]
    }
   ],
   "source": [
    "FPR = fp / (fp + tn)\n",
    "print('FPR:', FPR)\n",
    "\n",
    "TPR = tp / (tp + fn)\n",
    "print('TPR:', TPR)\n",
    "\n",
    "#Ratio of TP to FP (We need this to be greater than 10 in order to guarantee a profit)\n",
    "print('Ratio of TP to FP', tp/fp)"
   ]
  },
  {
   "cell_type": "code",
   "execution_count": 31,
   "metadata": {},
   "outputs": [],
   "source": [
    "#Lets try another model\n",
    "from xgboost import XGBClassifier\n",
    "from sklearn.metrics import accuracy_score"
   ]
  },
  {
   "cell_type": "code",
   "execution_count": 32,
   "metadata": {},
   "outputs": [
    {
     "data": {
      "text/plain": [
       "XGBClassifier(base_score=0.5, booster='gbtree', colsample_bylevel=1,\n",
       "              colsample_bynode=1, colsample_bytree=1, gamma=0,\n",
       "              learning_rate=0.1, max_delta_step=0, max_depth=3,\n",
       "              min_child_weight=1, missing=None, n_estimators=100, n_jobs=1,\n",
       "              nthread=None, objective='binary:logistic', random_state=0,\n",
       "              reg_alpha=0, reg_lambda=1, scale_pos_weight=1, seed=None,\n",
       "              silent=None, subsample=1, verbosity=1)"
      ]
     },
     "execution_count": 32,
     "metadata": {},
     "output_type": "execute_result"
    }
   ],
   "source": [
    "model5 = XGBClassifier()\n",
    "model5.fit(X_train, y_train)"
   ]
  },
  {
   "cell_type": "code",
   "execution_count": 33,
   "metadata": {},
   "outputs": [],
   "source": [
    "model5_results = model5.predict(X_val)\n",
    "model5_results = pd.Series(model5_results)"
   ]
  },
  {
   "cell_type": "code",
   "execution_count": 34,
   "metadata": {},
   "outputs": [],
   "source": [
    "#Model predicts they will pay back the loan when in fact they do not = false positive:\n",
    "fp_filter = ((model5_results == 1) & (loans['loan_status'] == 0))\n",
    "fp = len(model5_results[fp_filter])\n",
    "\n",
    "#Model predicts they wont pay back the loan when in fact they do = false negative:\n",
    "fn_filter = ((model5_results == 0) & (loans['loan_status'] == 1))\n",
    "fn = len(model5_results[fn_filter])\n",
    "\n",
    "#True Positives\n",
    "tp_filter = ((model5_results == 1) & (loans['loan_status'] == 1))\n",
    "tp = len(model5_results[tp_filter])\n",
    "\n",
    "tn_filter = ((model5_results == 0) & (loans['loan_status'] == 0))\n",
    "tn = len(model5_results[tn_filter])"
   ]
  },
  {
   "cell_type": "code",
   "execution_count": 35,
   "metadata": {},
   "outputs": [
    {
     "data": {
      "text/plain": [
       "<matplotlib.axes._subplots.AxesSubplot at 0x7f7d8db88410>"
      ]
     },
     "execution_count": 35,
     "metadata": {},
     "output_type": "execute_result"
    },
    {
     "data": {
      "image/png": "[encoded data removed]",
      "text/plain": [
       "<Figure size 432x288 with 2 Axes>"
      ]
     },
     "metadata": {
      "needs_background": "light"
     },
     "output_type": "display_data"
    }
   ],
   "source": [
    "pd.set_option('display.float_format', lambda x: '%.3f' % x)\n",
    "data = {'loans' : loans['loan_status'], \n",
    "        'model_results': model5_results}\n",
    "\n",
    "df = pd.DataFrame(data, columns=['loans', 'model_results'])\n",
    "confusion_matrix = pd.crosstab(df['loans'], df['model_results'], rownames=['Actual'], colnames=['Predicted'])\n",
    "\n",
    "sns.heatmap(confusion_matrix, annot=True, fmt='g')"
   ]
  },
  {
   "cell_type": "code",
   "execution_count": 36,
   "metadata": {},
   "outputs": [
    {
     "name": "stdout",
     "output_type": "stream",
     "text": [
      "FPR: 0.964292838619589\n",
      "TPR: 0.967064765612669\n",
      "Ratio of TP to FP 3.8024410426148116\n"
     ]
    }
   ],
   "source": [
    "FPR = fp / (fp + tn)\n",
    "print('FPR:', FPR)\n",
    "\n",
    "TPR = tp / (tp + fn)\n",
    "print('TPR:', TPR)\n",
    "\n",
    "#Ratio of TP to FP (We need this to be greater than 10 in order to guarantee a profit)\n",
    "print('Ratio of TP to FP', tp/fp)"
   ]
  },
  {
   "cell_type": "markdown",
   "metadata": {},
   "source": [
    "## Some next steps I would like to work on:\n",
    "* We can tweak penalties further and try to implement a gridsearch optimization to find the best penalties\n",
    "* potentially try some additional models and maybe even something custom or more advanced\n",
    "* Generate better features with some of the discarded columns(such as maybe emp_title)\n",
    "* use some ensembling techniques for multiple models to potentially increase our accuracy on predictions\n",
    "* apply some hyperparameter tuning for more performance"
   ]
  },
  {
   "cell_type": "code",
   "execution_count": 37,
   "metadata": {},
   "outputs": [
    {
     "name": "stdout",
     "output_type": "stream",
     "text": [
      "[0.02246257 0.03651883 0.16443129 0.02072138 0.0105546  0.01315493\n",
      " 0.02113673 0.0170912  0.00735975 0.01326549 0.         0.00866215\n",
      " 0.00740461 0.00928431 0.00962977 0.         0.         0.00818451\n",
      " 0.00787758 0.01017324 0.00297191 0.00856954 0.         0.00538697\n",
      " 0.         0.00641299 0.00592252 0.0156876  0.01596501 0.01476793\n",
      " 0.01335922 0.00736349 0.00798388 0.01119786 0.01735159 0.01727621\n",
      " 0.0201206  0.00870683 0.         0.00510318 0.00891741 0.01358033\n",
      " 0.0063529  0.00622503 0.03122727 0.00641362 0.01148312 0.00873828\n",
      " 0.00751879 0.00955402 0.01490046 0.         0.00702493 0.00411663\n",
      " 0.01035157 0.00348156 0.01817746 0.         0.         0.\n",
      " 0.         0.01032523 0.00565192 0.00963716 0.00674227 0.02407748\n",
      " 0.00879976 0.02446785 0.00945404 0.         0.01661853 0.\n",
      " 0.         0.03740418 0.04334504 0.         0.01569212 0.\n",
      " 0.         0.         0.         0.         0.00823695 0.\n",
      " 0.         0.00802008 0.         0.0116388  0.00537707 0.00705513\n",
      " 0.         0.00733271 0.        ]\n"
     ]
    }
   ],
   "source": [
    "#Our models are not performing very well on the data and a good idea is to go back and do some more feature engineering\n",
    "print(model5.feature_importances_)"
   ]
  },
  {
   "cell_type": "code",
   "execution_count": null,
   "metadata": {},
   "outputs": [],
   "source": []
  }
 ],
 "metadata": {
  "kernelspec": {
   "display_name": "Python 3",
   "language": "python",
   "name": "python3"
  },
  "language_info": {
   "codemirror_mode": {
    "name": "ipython",
    "version": 3
   },
   "file_extension": ".py",
   "mimetype": "text/x-python",
   "name": "python",
   "nbconvert_exporter": "python",
   "pygments_lexer": "ipython3",
   "version": "3.7.6"
  }
 },
 "nbformat": 4,
 "nbformat_minor": 4
}
